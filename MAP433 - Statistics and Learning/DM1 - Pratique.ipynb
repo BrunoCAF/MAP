{
 "cells": [
  {
   "cell_type": "markdown",
   "metadata": {},
   "source": [
    "# <center> Devoir Maison \\#1 - MAP 433 </center>\n",
    "\n",
    "## Trinôme:\n",
    "#### BARRÉ Théo\n",
    "#### CHEN Longteng\n",
    "#### COSTA ALVES FREIRE Bruno\n",
    "\n",
    "## 2. Partie Pratique"
   ]
  },
  {
   "cell_type": "code",
   "execution_count": 1,
   "metadata": {},
   "outputs": [],
   "source": [
    "import numpy as np\n",
    "import numpy.random as npr\n",
    "import matplotlib.pyplot as plt\n",
    "import scipy.stats as sps\n",
    "import pandas as pd\n",
    "from IPython.display import display, Latex\n",
    "import warnings\n",
    "warnings.filterwarnings('ignore')\n",
    "\n",
    "file = \"ozone_complet.txt\"\n",
    "données = pd.read_csv(file, delimiter=';').dropna()\n",
    "\n",
    "ozone = données[\"maxO3\"] \n",
    "temperature, vent, nebulosite = données[\"T12\"], données[\"Vx\"], données[\"Ne12\"]\n",
    "intercept = pd.Series(data = np.ones(ozone.size), index = ozone.index)"
   ]
  },
  {
   "cell_type": "markdown",
   "metadata": {},
   "source": [
    "### 1.  Estimer l’estimateur des moindres carrés du paramètre"
   ]
  },
  {
   "cell_type": "code",
   "execution_count": 2,
   "metadata": {},
   "outputs": [
    {
     "name": "stdout",
     "output_type": "stream",
     "text": [
      "Intercept: \n"
     ]
    },
    {
     "data": {
      "text/latex": [
       "$\\hat{\\beta}_0 = 73.7349$"
      ],
      "text/plain": [
       "<IPython.core.display.Latex object>"
      ]
     },
     "metadata": {},
     "output_type": "display_data"
    },
    {
     "name": "stdout",
     "output_type": "stream",
     "text": [
      "Coefficient de Température: \n"
     ]
    },
    {
     "data": {
      "text/latex": [
       "$\\hat{\\beta}_1 = 1.5355$"
      ],
      "text/plain": [
       "<IPython.core.display.Latex object>"
      ]
     },
     "metadata": {},
     "output_type": "display_data"
    },
    {
     "name": "stdout",
     "output_type": "stream",
     "text": [
      "Coefficient de Vent: \n"
     ]
    },
    {
     "data": {
      "text/latex": [
       "$\\hat{\\beta}_2 = 1.3209$"
      ],
      "text/plain": [
       "<IPython.core.display.Latex object>"
      ]
     },
     "metadata": {},
     "output_type": "display_data"
    },
    {
     "name": "stdout",
     "output_type": "stream",
     "text": [
      "Coefficient de Nébulosité: \n"
     ]
    },
    {
     "data": {
      "text/latex": [
       "$\\hat{\\beta}_3 = -3.3069$"
      ],
      "text/plain": [
       "<IPython.core.display.Latex object>"
      ]
     },
     "metadata": {},
     "output_type": "display_data"
    },
    {
     "name": "stdout",
     "output_type": "stream",
     "text": [
      "Variance: \n"
     ]
    },
    {
     "data": {
      "text/latex": [
       "$\\hat{\\sigma}^2 = 299.4525$"
      ],
      "text/plain": [
       "<IPython.core.display.Latex object>"
      ]
     },
     "metadata": {},
     "output_type": "display_data"
    }
   ],
   "source": [
    "Y = np.matrix(ozone).transpose()\n",
    "Zt = np.matrix((intercept, temperature, vent, nebulosite))\n",
    "Z = Zt.transpose()\n",
    "\n",
    "β_hat = np.linalg.solve(Zt*Z, Zt*Y)\n",
    "\n",
    "dof = Z.shape[0] - Z.shape[1]\n",
    "\n",
    "σ2_hat = np.linalg.norm(Y - Z*β_hat)**2/dof\n",
    "\n",
    "print(\"Intercept: \")\n",
    "display(Latex(f\"$\\\\hat{{\\\\beta}}_0 = {β_hat.item(0):.4f}$\"))\n",
    "print(\"Coefficient de Température: \")\n",
    "display(Latex(f\"$\\\\hat{{\\\\beta}}_1 = {β_hat.item(1):.4f}$\"))\n",
    "print(\"Coefficient de Vent: \")\n",
    "display(Latex(f\"$\\\\hat{{\\\\beta}}_2 = {β_hat.item(2):.4f}$\"))\n",
    "print(\"Coefficient de Nébulosité: \")\n",
    "display(Latex(f\"$\\\\hat{{\\\\beta}}_3 = {β_hat.item(3):.4f}$\"))\n",
    "print(\"Variance: \")\n",
    "display(Latex(f\"$\\\\hat{{\\\\sigma}}^2 = {σ2_hat.item(0):.4f}$\"))"
   ]
  },
  {
   "cell_type": "markdown",
   "metadata": {},
   "source": [
    "### 2.  Déterminer les intervalles de confiance bilatères à $95\\%$ pour chaque valeur des paramètres"
   ]
  },
  {
   "cell_type": "code",
   "execution_count": 3,
   "metadata": {},
   "outputs": [
    {
     "data": {
      "text/latex": [
       "Intervalles de Confiance Bilatères à $95\\%$: "
      ],
      "text/plain": [
       "<IPython.core.display.Latex object>"
      ]
     },
     "metadata": {},
     "output_type": "display_data"
    },
    {
     "name": "stdout",
     "output_type": "stream",
     "text": [
      "Intercept: \n"
     ]
    },
    {
     "data": {
      "text/latex": [
       "$\\mathbb{P}_{\\theta}[\\beta_0 \\in [67.7054, 79.7643]] = 95\\% $"
      ],
      "text/plain": [
       "<IPython.core.display.Latex object>"
      ]
     },
     "metadata": {},
     "output_type": "display_data"
    },
    {
     "name": "stdout",
     "output_type": "stream",
     "text": [
      "Coefficient de Température: \n"
     ]
    },
    {
     "data": {
      "text/latex": [
       "$\\mathbb{P}_{\\theta}[\\beta_1 \\in [1.3167, 1.7544]] = 95\\% $"
      ],
      "text/plain": [
       "<IPython.core.display.Latex object>"
      ]
     },
     "metadata": {},
     "output_type": "display_data"
    },
    {
     "name": "stdout",
     "output_type": "stream",
     "text": [
      "Coefficient de Vent: \n"
     ]
    },
    {
     "data": {
      "text/latex": [
       "$\\mathbb{P}_{\\theta}[\\beta_2 \\in [1.0256, 1.6162]] = 95\\% $"
      ],
      "text/plain": [
       "<IPython.core.display.Latex object>"
      ]
     },
     "metadata": {},
     "output_type": "display_data"
    },
    {
     "name": "stdout",
     "output_type": "stream",
     "text": [
      "Coefficient de Nébulosité: \n"
     ]
    },
    {
     "data": {
      "text/latex": [
       "$\\mathbb{P}_{\\theta}[\\beta_3 \\in [-3.8020, -2.8117]] = 95\\% $"
      ],
      "text/plain": [
       "<IPython.core.display.Latex object>"
      ]
     },
     "metadata": {},
     "output_type": "display_data"
    }
   ],
   "source": [
    "α = 0.05\n",
    "\n",
    "Σ = np.linalg.inv(Zt*Z)\n",
    "\n",
    "interv = np.array(β_hat + np.sqrt(σ2_hat * np.diag(Σ).reshape((4,1))) * sps.t(df=dof).ppf((α/2, 1-α/2)))\n",
    "\n",
    "display(Latex(\"Intervalles de Confiance Bilatères à $95\\\\%$: \"))\n",
    "print(\"Intercept: \")\n",
    "display(Latex(f\"$\\\\mathbb{{P}}_{{\\\\theta}}[\\\\beta_0 \\\\in [{interv[0][0]:.4f}, {interv[0][1]:.4f}]] = 95\\\\% $\"))\n",
    "print(\"Coefficient de Température: \")\n",
    "display(Latex(f\"$\\\\mathbb{{P}}_{{\\\\theta}}[\\\\beta_1 \\\\in [{interv[1][0]:.4f}, {interv[1][1]:.4f}]] = 95\\\\% $\"))\n",
    "print(\"Coefficient de Vent: \")\n",
    "display(Latex(f\"$\\\\mathbb{{P}}_{{\\\\theta}}[\\\\beta_2 \\\\in [{interv[2][0]:.4f}, {interv[2][1]:.4f}]] = 95\\\\% $\"))\n",
    "print(\"Coefficient de Nébulosité: \")\n",
    "display(Latex(f\"$\\\\mathbb{{P}}_{{\\\\theta}}[\\\\beta_3 \\\\in [{interv[3][0]:.4f}, {interv[3][1]:.4f}]] = 95\\\\% $\"))"
   ]
  },
  {
   "cell_type": "markdown",
   "metadata": {},
   "source": [
    "### 3.  Visualiser les régions de confiance à $95\\%$ pour $(\\beta_1, \\beta_2)$ et $(\\beta_1, \\beta_3)$"
   ]
  },
  {
   "cell_type": "code",
   "execution_count": 4,
   "metadata": {
    "scrolled": false
   },
   "outputs": [
    {
     "data": {
      "image/png": "[encoded data removed]",
      "text/plain": [
       "<Figure size 864x576 with 2 Axes>"
      ]
     },
     "metadata": {
      "needs_background": "light"
     },
     "output_type": "display_data"
    }
   ],
   "source": [
    "q = 2\n",
    "F = sps.f.ppf(1-α, q, dof)\n",
    "\n",
    "\n",
    "fig, axs = plt.subplots(nrows=1, ncols=2, figsize=(12,8), sharey=False)\n",
    "\n",
    "title = [r\"$(\\beta_1, \\beta_2)$\", r\"$(\\beta_1, \\beta_3)$\"]\n",
    "matrices = list([np.matrix([[0, 1, 0, 0], [0, 0, 1, 0]]), np.matrix([[0, 1, 0, 0], [0, 0, 0, 1]])])\n",
    "vecteurs = [lambda x,y: np.matrix([[0, x, y, 0]]).transpose(), lambda x,y: np.matrix([[0, x, 0, y]]).transpose()]\n",
    "xframe = [np.linspace(1.2,1.9,1400), np.linspace(1.2,1.9,1400)]\n",
    "yframe = [np.linspace(.9,1.8,1400), np.linspace(-4,-2.6,2800)]\n",
    "xlabel = [r\"Valeurs pour $\\beta_1$\", r\"Valeurs pour $\\beta_1$\"]\n",
    "ylabel = [r\"Valeurs pour $\\beta_2$\", r\"Valeurs pour $\\beta_3$\"]\n",
    "for i, ax in enumerate(axs.ravel()):\n",
    "    A = matrices[i]\n",
    "    region = lambda v,M: ((A*(β_hat - v)).transpose()*M*(A*(β_hat - v))).item(0)\n",
    "\n",
    "    M = np.linalg.inv(A*Σ*A.transpose())/(q*σ2_hat)\n",
    "\n",
    "    x,y = np.meshgrid(xframe[i],yframe[i])\n",
    "    v = vecteurs[i](x,y)\n",
    "\n",
    "    ax.title.set_text(r\"Région de Confiance à $95\\%$ pour \"+title[i])\n",
    "    ax.imshow( (region(v, M) <= F).astype(int), extent=(x.min(),x.max(),y.min(),y.max()), origin=\"lower\", \n",
    "              cmap = 'plasma')\n",
    "\n",
    "    center = np.asarray(A*β_hat).reshape(2)\n",
    "    ax.plot(center[0], center[1], 'r*')\n",
    "    ax.legend([r\"$A \\hat{\\beta}$\"])\n",
    "    ax.set_xlabel(xlabel[i])\n",
    "    ax.set_ylabel(ylabel[i])\n",
    "\n",
    "plt.suptitle(r\"Régions de Confiance de niveau $\\alpha = $\"+f\"{α} pour les paramètres\", fontsize=20)\n",
    "plt.tight_layout(pad=2)\n",
    "plt.show()"
   ]
  },
  {
   "cell_type": "markdown",
   "metadata": {},
   "source": [
    "### 4. Formuler les différentes questions comme des tests d’hypothèses\n",
    "\n",
    "1. est-ce que la valeur de ```O3``` est influencée par ```Vx``` ?\n",
    "\n",
    "    $$H_0 : \\beta_2 = 0~, ~~~\\text{ contre }~~~ H_1 : \\beta_2 \\neq 0$$\n",
    "    \n",
    "    \n",
    "    \n",
    "2. y a-t-il un effet nébulosité ?\n",
    "\n",
    "    $$H_0 : \\beta_3 = 0~, ~~~\\text{ contre }~~~ H_1 : \\beta_3 \\neq 0$$\n",
    "    \n",
    "    \n",
    "    \n",
    "3. est-ce que la valeur de ```O3``` est influencée par ```Vx``` ou ```T12``` ?\n",
    "\n",
    "    $$H_0 : (\\beta_1, \\beta_2) = (0, 0)~, ~~~\\text{ contre }~~~ H_1 : (\\beta_1, \\beta_2) \\neq (0, 0)$$\n",
    "\n",
    "\n"
   ]
  },
  {
   "cell_type": "markdown",
   "metadata": {},
   "source": [
    "### 5. Construire des procédures de tests pour ces trois hypothèses"
   ]
  },
  {
   "cell_type": "markdown",
   "metadata": {},
   "source": [
    "1. On rejette $H_0$ si et seulement si la statistique de test $T = \\dfrac{\\mathbf{x}^T \\mathbf{\\hat{\\beta}}}{\\hat{\\sigma}\\sqrt{\\mathbf{x}^T(\\mathbf{Z}^T \\mathbf{Z})^{-1} \\mathbf{x}}}$ est plus grande en valeur absolue que le quantile $t_{n-p}(1-\\alpha/2)$. \n",
    "\n",
    "Dans ce cas, $\\mathbf{x} = [0, 0, 1, 0]^T$. "
   ]
  },
  {
   "cell_type": "code",
   "execution_count": 8,
   "metadata": {},
   "outputs": [
    {
     "data": {
      "text/latex": [
       "$T = 8.7741 > 1.9617 = t_{n-p}(1-\\alpha/2)$"
      ],
      "text/plain": [
       "<IPython.core.display.Latex object>"
      ]
     },
     "metadata": {},
     "output_type": "display_data"
    },
    {
     "data": {
      "text/latex": [
       "Alors, on rejette l'hypothèse nulle. "
      ],
      "text/plain": [
       "<IPython.core.display.Latex object>"
      ]
     },
     "metadata": {},
     "output_type": "display_data"
    }
   ],
   "source": [
    "T = np.abs(β_hat.item(2) / (np.sqrt(σ2_hat * np.diag(Σ).reshape((4,1))).item(2)))\n",
    "t = sps.t(df=dof).ppf(1-α/2)\n",
    "\n",
    "display(Latex(f\"$T = {T:.4f} {'>' if T > t else '<'} {t:.4f} = t_{{n-p}}(1-\\\\alpha/2)$\"))\n",
    "display(Latex(\"Alors, on rejette l'hypothèse nulle. \" if T > t else \n",
    "              \"Alors, on ne rejette pas $H_0$.\"))"
   ]
  },
  {
   "cell_type": "markdown",
   "metadata": {},
   "source": [
    "2. On rejette $H_0$ si et seulement si la statistique de test $T = \\dfrac{\\mathbf{x}^T \\mathbf{\\hat{\\beta}}}{\\hat{\\sigma}\\sqrt{\\mathbf{x}^T(\\mathbf{Z}^T \\mathbf{Z})^{-1} \\mathbf{x}}}$ est plus grande en valeur absolue que le quantile $t_{n-p}(1-\\alpha/2)$. \n",
    "\n",
    "Dans ce cas, $\\mathbf{x} = [0, 0, 0, 1]^T$. "
   ]
  },
  {
   "cell_type": "code",
   "execution_count": 9,
   "metadata": {},
   "outputs": [
    {
     "data": {
      "text/latex": [
       "$T = 13.1021 > 1.9617 = t_{n-p}(1-\\alpha/2)$"
      ],
      "text/plain": [
       "<IPython.core.display.Latex object>"
      ]
     },
     "metadata": {},
     "output_type": "display_data"
    },
    {
     "data": {
      "text/latex": [
       "Alors, on rejette l'hypothèse nulle. "
      ],
      "text/plain": [
       "<IPython.core.display.Latex object>"
      ]
     },
     "metadata": {},
     "output_type": "display_data"
    }
   ],
   "source": [
    "T = np.abs(β_hat.item(3) / (np.sqrt(σ2_hat * np.diag(Σ).reshape((4,1))).item(3)))\n",
    "t = sps.t(df=dof).ppf(1-α/2)\n",
    "\n",
    "display(Latex(f\"$T = {T:.4f} {'>' if T > t else '<'} {t:.4f} = t_{{n-p}}(1-\\\\alpha/2)$\"))\n",
    "display(Latex(\"Alors, on rejette l'hypothèse nulle. \" if T > t else \n",
    "              \"Alors, on ne rejette pas $H_0$.\"))"
   ]
  },
  {
   "cell_type": "markdown",
   "metadata": {},
   "source": [
    "3. On rejette $H_0$ si et seulement si la statistique de test $F = \\dfrac{1}{q \\hat{\\sigma}^2} \\hat{\\beta}^T [A^T A(\\mathbf{Z}^T\\mathbf{Z})^{-1}A^T A] \\hat{\\beta}$ est plus grande que le quantile $f_{q, n-p}(1-\\alpha)$. \n",
    "\n",
    "Dans ce cas, $A = \\begin{bmatrix}0&1&0&0\\\\0&0&1&0 \\end{bmatrix}$. "
   ]
  },
  {
   "cell_type": "code",
   "execution_count": 10,
   "metadata": {},
   "outputs": [
    {
     "data": {
      "text/latex": [
       "$F = 132.7779 > 3.0023 = f_{q, n-p}(1-\\alpha)$"
      ],
      "text/plain": [
       "<IPython.core.display.Latex object>"
      ]
     },
     "metadata": {},
     "output_type": "display_data"
    },
    {
     "data": {
      "text/latex": [
       "Alors, on rejette l'hypothèse nulle. "
      ],
      "text/plain": [
       "<IPython.core.display.Latex object>"
      ]
     },
     "metadata": {},
     "output_type": "display_data"
    }
   ],
   "source": [
    "q = 2\n",
    "f = sps.f.ppf(1-α, q, dof)\n",
    "A = np.matrix([[0, 1, 0, 0], [0, 0, 1, 0]])\n",
    "M = np.linalg.inv(A*Σ*A.transpose())/(q*σ2_hat)\n",
    "\n",
    "F = ((A*β_hat).transpose()*M*(A*β_hat)).item(0)\n",
    "\n",
    "\n",
    "display(Latex(f\"$F = {F:.4f} {'>' if F > f else '<'} {f:.4f} = f_{{q, n-p}}(1-\\\\alpha)$\"))\n",
    "display(Latex(\"Alors, on rejette l'hypothèse nulle. \" if F > f else \n",
    "              \"Alors, on ne rejette pas $H_0$.\"))"
   ]
  },
  {
   "cell_type": "markdown",
   "metadata": {},
   "source": [
    "### 6. Conclure\n",
    "\n",
    "En conclusion, puisque dans chacun des tests on a rejetté l'hypothèse nulle, il est raisonnable d'affirmer que \n",
    "1. Oui, la valeur de ```O3``` semble bien être influencée par ```Vx```; \n",
    "2. Oui, il y a bien un effet de la nébulosité sur ```O3```; \n",
    "3. Et finalement, oui, ```O3``` est bien influencée par le couple ```Vx```, ```T12```. "
   ]
  }
 ],
 "metadata": {
  "kernelspec": {
   "display_name": "Python 3",
   "language": "python",
   "name": "python3"
  },
  "language_info": {
   "codemirror_mode": {
    "name": "ipython",
    "version": 3
   },
   "file_extension": ".py",
   "mimetype": "text/x-python",
   "name": "python",
   "nbconvert_exporter": "python",
   "pygments_lexer": "ipython3",
   "version": "3.8.5"
  },
  "latex_envs": {
   "LaTeX_envs_menu_present": true,
   "autoclose": false,
   "autocomplete": false,
   "bibliofile": "biblio.bib",
   "cite_by": "apalike",
   "current_citInitial": 1,
   "eqLabelWithNumbers": true,
   "eqNumInitial": 1,
   "hotkeys": {
    "equation": "Ctrl-E",
    "itemize": "Ctrl-I"
   },
   "labels_anchors": false,
   "latex_user_defs": false,
   "report_style_numbering": false,
   "user_envs_cfg": false
  }
 },
 "nbformat": 4,
 "nbformat_minor": 4
}
