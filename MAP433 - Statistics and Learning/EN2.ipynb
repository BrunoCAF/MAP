{
 "cells": [
  {
   "cell_type": "markdown",
   "metadata": {},
   "source": [
    "# <div align=\"center\"> Exploration Numérique 2 - MAP 433\n",
    "\n",
    "## Trinôme:\n",
    "#### BARRÉ Théo\n",
    "#### CHEN Longteng\n",
    "#### COSTA ALVES FREIRE Bruno"
   ]
  },
  {
   "cell_type": "markdown",
   "metadata": {},
   "source": [
    "### 1. Montrer que pour tout $\\theta \\in \\Theta$, la quantité d'information de Fisher est donnée par $\\mathbb{I}(\\theta) = \\dfrac{1}{\\theta^2}$\n",
    "\n",
    "On se rappelle que l'information de Fisher d'un échantillon constitué de $n$ observations indépendantes est simplement la somme des informations de Fisher pour chaque observation. Ainsi, on calcule ici l'information de Fisher pour une observation. \n",
    "\n",
    "$$\\mathbb{I}(\\theta) = \\mathbb{E}_\\theta\\left[\\left(\\nabla_\\theta{\\ell(\\theta, X_i)}\\right)^2 \\right]$$\n",
    "\n",
    "Or, $\\ell(\\theta, x_i) = \\log{\\theta} + (\\theta-1) \\log{x_i}$, d'où $\\nabla_\\theta{\\ell(\\theta, x_i)} = \\dfrac{1}{\\theta} + \\log{x_i}$. De plus, on se rappelle que $-\\log{X_i} \\sim \\mathcal{E}(\\theta)$, et puis on peut calculer\n",
    "\n",
    "$$\\mathbb{I}(\\theta) = \\dfrac{1}{\\theta^2} - 2 \\dfrac{1}{\\theta} \\underbrace{\\mathbb{E}_\\theta\\left[- \\log{X_i} \\right]}_{1/\\theta} + \\underbrace{\\mathbb{E}_\\theta\\left[\\left(- \\log{X_i}\\right)^2 \\right]}_{2/\\theta^2} = \\dfrac{1}{\\theta^2}$$"
   ]
  },
  {
   "cell_type": "markdown",
   "metadata": {},
   "source": [
    "### 2. Montrer que l'estimateur du maximum de vraisemblance est donné par\n",
    "\n",
    "$$ {\\hat{\\theta}_n}^{\\text{MV}} = - \\frac{n}{\\sum\\limits_{i=1}^n \\log(X_i)} $$\n",
    "\n",
    "On prend la log-vraisemblance de l'échantillon, $\\ell(\\theta, x) = n \\log{\\theta} + (\\theta - 1) \\sum\\limits_{i=1}^n \\log{x_i}$, laquelle on souhaite maximiser. On cherche les points critiques:\n",
    "\n",
    "$$ \\nabla_\\theta{\\ell(\\theta, X)} = \\dfrac{n}{\\theta} - \\sum\\limits_{i=1}^n (-\\log{X_i}) = 0 \\Longrightarrow {\\hat{\\theta}_n}^{\\text{MV}} = n \\left(- \\sum\\limits_{i=1}^n \\log{X_i} \\right)^{-1}$$\n",
    "\n",
    "Ensuite, on vérifie qu'il s'agit bien d'un maximum, en calculant la matrice Hessienne de $\\ell(\\theta, x)$. Or, $\\mathrm{H}_\\ell(\\theta, x) = -\\dfrac{1}{\\theta^2} < 0$ $\\forall \\theta$, il s'agit effectivement d'un maximum. "
   ]
  },
  {
   "cell_type": "markdown",
   "metadata": {},
   "source": [
    "### 3. Montrer que pour tout $\\theta \\in \\Theta$, $W = − \\sum_{i=1}^n \\log{X_i}$ est distribué sous $\\mathbb{P}_\\theta$ suivant une loi $\\Gamma(n, \\theta)$.\n",
    "\n",
    "On commence par démontrer que $\\forall i$, $-\\log{X_i} \\underset{\\mathbb{P}_\\theta}{\\sim} \\mathcal{E}(\\theta) = \\Gamma(1, \\theta)$. Par la méthode de la fonction muette, soit $h$ une fonction continue bornée, alors\n",
    "\n",
    "$$ \\mathbb{E}_\\theta\\left[h(-\\log{X_i}) \\right] = \\int\\limits_0^1 h(\\underbrace{-\\log{x_i}}_{u}) \\theta x_i^{\\theta-1} dx_i = -\\int\\limits_{+\\infty}^0  h(u) \\theta e^{-(\\theta-1) u} e^{- u} du = \\int\\limits_0^{+\\infty}  h(u) \\theta e^{-\\theta u} du, $$\n",
    "\n",
    "d'où on trouve que $-\\log{X_i} \\underset{\\mathbb{P}_\\theta}{\\sim} \\mathcal{E}(\\theta) = \\Gamma(1, \\theta)$. \n",
    "\n",
    "Ensuite, on utilise la propriété de la somme de variables Gamma, qui nous donne $W = \\sum\\limits_{i=1}^n -\\log{X_i} \\underset{\\mathbb{P}_\\theta}{\\sim} \\Gamma(\\sum\\limits_{i=1}^n 1, \\theta) = \\Gamma(n, \\theta)$. "
   ]
  },
  {
   "cell_type": "markdown",
   "metadata": {},
   "source": [
    "### 4. Montrer que pour tout $\\theta \\in \\Theta$, \n",
    "\n",
    "$$ \\mathbb{E}_\\theta \\left[\\hat{\\theta}_n^{\\text{MV}}\\right] = \\theta \\dfrac{n}{n-1} $$\n",
    "\n",
    "L'estimateur $\\tilde{\\theta}_n = [(n − 1)/n] \\hat{\\theta}_n^{\\text{MV}}$ est donc un estimateur sans biais de $\\theta$. \n",
    "\n",
    "\n",
    "\n",
    "On voit que $\\hat{\\theta}_n^{\\text{MV}} = \\dfrac{n}{W}$, et puis on calcule\n",
    "\n",
    "$$ \\mathbb{E}_\\theta\\left[\\dfrac{n}{W} \\right] = \\int\\limits_0^{+\\infty} \\dfrac{n}{w} w^{n-1} \\dfrac{\\theta^n e^{-\\theta w}}{\\Gamma(n)} dw = \\dfrac{n \\theta}{n-1} \\underbrace{\\int\\limits_0^{+\\infty} w^{n-2} \\dfrac{\\theta^{n-1} e^{-\\theta w}}{\\Gamma(n-1)} dw}_1 = \\theta \\dfrac{n}{n-1},$$\n",
    "\n",
    "où on a utilisé les densités des lois $\\Gamma(n, \\theta)$ et $\\Gamma(n-1, \\theta)$. Ainsi, on a que $\\mathbb{E}_\\theta\\left[\\tilde{\\theta}_n\\right] = \\dfrac{n-1}{n} \\theta \\dfrac{n}{n-1} = \\theta$, ce que démontre qu'il s'agit bien d'un estimateur sans biais de $\\theta$. "
   ]
  },
  {
   "cell_type": "markdown",
   "metadata": {},
   "source": [
    "### 5. Montrer que pour tout $\\theta \\in \\Theta$, \n",
    "\n",
    "$$\\text{Var}_\\theta(\\tilde{\\theta}_n) = \\dfrac{\\theta^2}{n-2} $$\n",
    "\n",
    "D'abord, on voit que\n",
    "\n",
    "$$\\text{Var}_\\theta(\\tilde{\\theta}_n) = \\mathbb{E}_\\theta\\left[\\left(\\tilde{\\theta}_n - \\theta\\right)^2 \\right] = \\mathbb{E}_\\theta\\left[\\tilde{\\theta}_n^2 \\right] - 2\\theta \\mathbb{E}_\\theta\\left[\\tilde{\\theta}_n \\right] + \\theta^2 = \\mathbb{E}_\\theta\\left[\\tilde{\\theta}_n^2 \\right] - \\theta^2. $$\n",
    "\n",
    "Ensuite, en utilisant le fait que $\\tilde{\\theta}_n = \\dfrac{n-1}{W}$, on montre que\n",
    "\n",
    "$$ \\mathbb{E}_\\theta\\left[\\tilde{\\theta}_n^2 \\right] = \\int\\limits_0^{+\\infty} \\dfrac{(n-1)^2}{w^2} w^{n-1} \\dfrac{\\theta^n e^{-\\theta w}}{\\Gamma(n)} dw = \\int\\limits_0^{+\\infty} \\dfrac{(n-1)^2 \\theta^2}{(n-1)(n-2)} w^{n-3} \\dfrac{\\theta^{n-2} e^{-\\theta w}}{\\Gamma(n-2)} dw = \\theta^2\\dfrac{n-1}{n-2},$$\n",
    "\n",
    "et puis, $\\text{Var}_\\theta(\\tilde{\\theta}_n) = \\mathbb{E}_\\theta\\left[\\tilde{\\theta}_n^2 \\right] - \\theta^2 = \\theta^2\\left(\\dfrac{n-1}{n-2} - 1 \\right) = \\dfrac{\\theta^2}{n-2}$. "
   ]
  },
  {
   "cell_type": "markdown",
   "metadata": {},
   "source": [
    "### 6. L'estimateur $\\tilde{\\theta}_n$ est-il efficace?\n",
    "\n",
    "\n",
    "Vu que la borne de Cramér-Rao pour le paramètre $\\theta$ est donnée par $\\mathbb{I}(\\theta)^{-1} = \\dfrac{\\theta^2}{n} < \\dfrac{\\theta^2}{n-2} = \\text{Var}_\\theta(\\tilde{\\theta}_n)$, l'estimateur $\\tilde{\\theta}_n$ ***n'est pas efficace***. "
   ]
  },
  {
   "cell_type": "markdown",
   "metadata": {},
   "source": [
    "### 7. Tracer les risques quadratiques des estimateurs $\\hat{\\theta}_n^{\\text{MV}}$, $\\tilde{\\theta}_n$ et la borne de Cramér-Rao pour $n = 20$ et $n = 200$.\n",
    "\n",
    "On se rappelle des expressions des risques quadratiques:\n",
    "\n",
    "$$ \\text{E. Q. M.} (\\theta, \\hat{\\theta}_n^{\\text{MV}}) = \\left(\\dfrac{\\theta}{n-1}\\right)^2 + \\dfrac{n^2}{(n-1)^2} \\dfrac{\\theta^2}{n-2} = \\theta^2 \\dfrac{n+2}{(n-2)(n-1)} $$\n",
    "\n",
    "$$ \\text{E. Q. M.} (\\theta, \\tilde{\\theta}_n) = \\dfrac{\\theta^2}{n-2} $$\n",
    "\n",
    "$$ \\text{C. R.} (\\theta) = \\dfrac{\\theta^2}{n} $$"
   ]
  },
  {
   "cell_type": "code",
   "execution_count": 1,
   "metadata": {},
   "outputs": [],
   "source": [
    "import numpy as np\n",
    "import numpy.random as npr\n",
    "import matplotlib.pyplot as plt\n",
    "import scipy.stats as sps\n",
    "import pandas as pd\n",
    "from IPython.display import display, Latex"
   ]
  },
  {
   "cell_type": "code",
   "execution_count": 2,
   "metadata": {},
   "outputs": [
    {
     "data": {
      "image/png": "[encoded data removed]",
      "text/plain": [
       "<Figure size 1008x504 with 2 Axes>"
      ]
     },
     "metadata": {
      "needs_background": "light"
     },
     "output_type": "display_data"
    }
   ],
   "source": [
    "fig, (ax1, ax2) = plt.subplots(nrows=1, ncols=2, figsize=(14,7), sharey=True)\n",
    "\n",
    "RQ_θ_hat = lambda θ, n: θ**2 * (n+2)/((n-1)*(n-2))\n",
    "RQ_θ_tilde = lambda θ, n: θ**2 / (n-2)\n",
    "RQ_cramer_rao = lambda θ, n: θ**2 / n\n",
    "\n",
    "plt.suptitle(r\"Risques Quadratiques pour les estimateurs $\\hat{\\theta}_n^{\\mathrm{MV}}$, \"+ \n",
    "             r\"${\\tilde{\\theta}}_n$ et la borne de Cramér-Rao\", fontsize=20)\n",
    "\n",
    "θ, n = np.linspace(0, 10, 1000), 20\n",
    "ax1.title.set_text(r\"$n = $\"+f\"{n}\")\n",
    "ax1.plot(θ, RQ_θ_hat(θ, n), 'r')\n",
    "ax1.plot(θ, RQ_θ_tilde(θ, n), 'b')\n",
    "ax1.plot(θ, RQ_cramer_rao(θ, n), 'g--')\n",
    "ax1.grid()\n",
    "ax1.legend([r\"$\\hat{\\theta}_n^{\\mathrm{MV}}$\", r\"$\\tilde{\\theta}_n$\", r\"Cramér-Rao\"])\n",
    "\n",
    "θ, n = np.linspace(0, 35, 1000), 200\n",
    "ax2.title.set_text(r\"$n = $\"+f\"{n}\")\n",
    "ax2.plot(θ, RQ_θ_hat(θ, n), 'r-')\n",
    "ax2.plot(θ, RQ_θ_tilde(θ, n), 'b')\n",
    "ax2.plot(θ, RQ_cramer_rao(θ, n), 'g--')\n",
    "ax2.grid()\n",
    "ax2.legend([r\"$\\hat{\\theta}_n^{\\mathrm{MV}}$\", r\"$\\tilde{\\theta}_n$\", r\"Cramér-Rao\"])\n",
    "\n",
    "plt.tight_layout(pad=2)\n",
    "plt.show()"
   ]
  },
  {
   "cell_type": "markdown",
   "metadata": {},
   "source": [
    "### 8. Montrer que pour tout $\\theta \\in \\Theta$, sous $\\mathbb{P}_\\theta$, $2 \\theta W$ est distribué suivant une loi du $\\chi^2$ à $2n$ (*) degrés de liberté. \n",
    "\n",
    "On se rappelle que $W \\underset{\\mathbb{P}_\\theta}{\\sim} \\Gamma(n, \\theta)$. En employant la méthode de la fonction muette, on montrera que $2\\theta W \\underset{\\mathbb{P}_\\theta}{\\sim} \\chi^2(2n)$. Soit $h$ une fonction continue bornée, alors\n",
    "\n",
    "$$ \\mathbb{E}_\\theta\\left[h(2\\theta W)\\right] = \\int\\limits_0^{+\\infty} h(2 \\theta w) w^{n-1} \\dfrac{\\theta^n e^{-\\theta w}}{\\Gamma(n)} dw = \\dfrac{1}{2^n} \\int\\limits_0^{+\\infty} h(\\underbrace{2 \\theta w}_q) (2\\theta w)^{n-1} \\dfrac{e^{-\\frac{1}{2} 2\\theta w}}{\\Gamma(n)} d(2 \\theta w) = \\int\\limits_0^{+\\infty} h(q)  \\dfrac{q^{n-1} e^{-\\frac{q}{2}}}{2^n \\Gamma(n)} dq$$\n",
    "\n",
    "Donc, $2\\theta W \\underset{\\mathbb{P}_\\theta}{\\sim} \\Gamma(n, \\frac{1}{2}) = \\chi^2(2 n)$. "
   ]
  },
  {
   "cell_type": "markdown",
   "metadata": {},
   "source": [
    "### 9. Construire un intervalle de confiance de couverture $1 - \\alpha \\in (0, 1)$ pour le paramètre $\\theta$. \n",
    "\n",
    "\n",
    "Soit $\\Phi_{2 n}$ la fonction de répartition de la loi du $\\chi^2(2 n)$. Posons $q_{2 n, 1-\\alpha} = \\Phi_{2 n}^{-1}(1-\\alpha)$, le quantile de $1-\\alpha$ de la loi $\\chi^2(2 n)$. Alors\n",
    "\n",
    "$$ \\mathbb{P}_\\theta\\left[2\\theta W \\le q_{2 n, 1-\\alpha} \\right] = 1-\\alpha \\iff \\mathbb{P}_\\theta\\left[0 \\le \\theta \\le \\dfrac{q_{2 n, 1-\\alpha}}{2 W} \\right] = 1-\\alpha$$\n",
    "\n",
    "Ainsi, on peut prendre $\\left[0, \\dfrac{q_{2 n, 1-\\alpha}}{2 W}\\right] = \\left[0, \\dfrac{q_{2 n, 1-\\alpha}}{2 n} \\hat{\\theta}_n^{\\mathrm{M V}} \\right] = \\left[0, \\dfrac{q_{2 n, 1-\\alpha}}{2 (n-1)} \\tilde{\\theta}_n \\right]$ comme un intervalle de confiance de couverture $1-\\alpha$ pour $\\theta$. "
   ]
  },
  {
   "cell_type": "markdown",
   "metadata": {},
   "source": [
    "### 10. Calculer $\\hat{\\theta}_n^{\\text{MV}}$ et $\\tilde{\\theta}_n$ pour les deux jeux de données."
   ]
  },
  {
   "cell_type": "code",
   "execution_count": 3,
   "metadata": {},
   "outputs": [
    {
     "data": {
      "text/latex": [
       "Pour $n = 20$: "
      ],
      "text/plain": [
       "<IPython.core.display.Latex object>"
      ]
     },
     "metadata": {},
     "output_type": "display_data"
    },
    {
     "data": {
      "text/latex": [
       "$\\hat{\\theta}_n^{\\mathrm{MV}} = 5.084641$"
      ],
      "text/plain": [
       "<IPython.core.display.Latex object>"
      ]
     },
     "metadata": {},
     "output_type": "display_data"
    },
    {
     "data": {
      "text/latex": [
       "$\\tilde{\\theta}_n ~~~= 4.830409$"
      ],
      "text/plain": [
       "<IPython.core.display.Latex object>"
      ]
     },
     "metadata": {},
     "output_type": "display_data"
    },
    {
     "data": {
      "text/latex": [
       "Pour $n = 200$: "
      ],
      "text/plain": [
       "<IPython.core.display.Latex object>"
      ]
     },
     "metadata": {},
     "output_type": "display_data"
    },
    {
     "data": {
      "text/latex": [
       "$\\hat{\\theta}_n^{\\mathrm{MV}} = 3.758355$"
      ],
      "text/plain": [
       "<IPython.core.display.Latex object>"
      ]
     },
     "metadata": {},
     "output_type": "display_data"
    },
    {
     "data": {
      "text/latex": [
       "$\\tilde{\\theta}_n ~~~= 3.739564$"
      ],
      "text/plain": [
       "<IPython.core.display.Latex object>"
      ]
     },
     "metadata": {},
     "output_type": "display_data"
    }
   ],
   "source": [
    "file = {20: \"data20.csv\", 200: \"data200.csv\"}\n",
    "\n",
    "données = {n : pd.read_csv(file[n])[\"x\"] for n in file.keys()}\n",
    "\n",
    "θ_hatMV = {n : -1/np.log(données[n]).mean() for n in file.keys()}\n",
    "θ_tilde = {n : (n-1)/n * θ_hatMV[n] for n in file.keys()}\n",
    "\n",
    "for n in file.keys():\n",
    "    display(Latex(f\"Pour $n = {n}$: \"))\n",
    "    display(Latex(f\"$\\\\hat{{\\\\theta}}_n^{{\\\\mathrm{{MV}}}} = {θ_hatMV[n]:.6f}$\"))\n",
    "    display(Latex(f\"$\\\\tilde{{\\\\theta}}_n ~~~= {θ_tilde[n]:.6f}$\"))\n",
    "#β α σ"
   ]
  },
  {
   "cell_type": "markdown",
   "metadata": {},
   "source": [
    "### 11. On prend $\\alpha = 0.05$. Déterminer les intervalles de confiance de taux de couverture $1 - \\alpha$. "
   ]
  },
  {
   "cell_type": "code",
   "execution_count": 4,
   "metadata": {},
   "outputs": [
    {
     "data": {
      "text/latex": [
       "Intervalle de Confiance de taux de couverture $1-\\alpha = 0.95$ pour $n = 20$: "
      ],
      "text/plain": [
       "<IPython.core.display.Latex object>"
      ]
     },
     "metadata": {},
     "output_type": "display_data"
    },
    {
     "data": {
      "text/latex": [
       "$\\mathbb{P}_\\theta\\left[\\theta \\in \\left[0, 7.087796\\right] \\right] = 1-\\alpha$"
      ],
      "text/plain": [
       "<IPython.core.display.Latex object>"
      ]
     },
     "metadata": {},
     "output_type": "display_data"
    },
    {
     "data": {
      "text/latex": [
       "Intervalle de Confiance de taux de couverture $1-\\alpha = 0.95$ pour $n = 200$: "
      ],
      "text/plain": [
       "<IPython.core.display.Latex object>"
      ]
     },
     "metadata": {},
     "output_type": "display_data"
    },
    {
     "data": {
      "text/latex": [
       "$\\mathbb{P}_\\theta\\left[\\theta \\in \\left[0, 4.205905\\right] \\right] = 1-\\alpha$"
      ],
      "text/plain": [
       "<IPython.core.display.Latex object>"
      ]
     },
     "metadata": {},
     "output_type": "display_data"
    }
   ],
   "source": [
    "α = 0.05\n",
    "\n",
    "q = {n : sps.chi2.ppf(1-α, df = 2*n) for n in file.keys()}\n",
    "\n",
    "interv = {n : q[n]/(2*n) * θ_hatMV[n] for n in file.keys()}\n",
    "\n",
    "for n in file.keys():\n",
    "    display(Latex(f\"Intervalle de Confiance de taux de couverture $1-\\\\alpha = {1-α}$ pour $n = {n}$: \"))\n",
    "    display(Latex(f\"$\\\\mathbb{{P}}_\\\\theta\\\\left[\\\\theta \\\\in \\\\left[0, {interv[n]:.6f}\\\\right] \\\\right]\"+\n",
    "                  f\" = 1-\\\\alpha$\"))"
   ]
  }
 ],
 "metadata": {
  "kernelspec": {
   "display_name": "Python 3",
   "language": "python",
   "name": "python3"
  },
  "language_info": {
   "codemirror_mode": {
    "name": "ipython",
    "version": 3
   },
   "file_extension": ".py",
   "mimetype": "text/x-python",
   "name": "python",
   "nbconvert_exporter": "python",
   "pygments_lexer": "ipython3",
   "version": "3.8.5"
  },
  "latex_envs": {
   "LaTeX_envs_menu_present": true,
   "autoclose": false,
   "autocomplete": false,
   "bibliofile": "biblio.bib",
   "cite_by": "apalike",
   "current_citInitial": 1,
   "eqLabelWithNumbers": true,
   "eqNumInitial": 1,
   "hotkeys": {
    "equation": "Ctrl-E",
    "itemize": "Ctrl-I"
   },
   "labels_anchors": false,
   "latex_user_defs": false,
   "report_style_numbering": false,
   "user_envs_cfg": false
  }
 },
 "nbformat": 4,
 "nbformat_minor": 4
}
