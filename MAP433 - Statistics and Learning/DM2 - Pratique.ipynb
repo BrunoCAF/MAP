{
 "cells": [
  {
   "cell_type": "markdown",
   "metadata": {},
   "source": [
    "# <center> Devoir Maison \\#2 - MAP 433 </center>\n",
    "\n",
    "## Trinôme:\n",
    "#### BARRÉ Théo\n",
    "#### CHEN Longteng\n",
    "#### COSTA ALVES FREIRE Bruno\n",
    "\n",
    "## Application Numérique"
   ]
  },
  {
   "cell_type": "code",
   "execution_count": 1,
   "metadata": {},
   "outputs": [
    {
     "data": {
      "text/html": [
       "<div>\n",
       "<style scoped>\n",
       "    .dataframe tbody tr th:only-of-type {\n",
       "        vertical-align: middle;\n",
       "    }\n",
       "\n",
       "    .dataframe tbody tr th {\n",
       "        vertical-align: top;\n",
       "    }\n",
       "\n",
       "    .dataframe thead th {\n",
       "        text-align: right;\n",
       "    }\n",
       "</style>\n",
       "<table border=\"1\" class=\"dataframe\">\n",
       "  <thead>\n",
       "    <tr style=\"text-align: right;\">\n",
       "      <th></th>\n",
       "      <th>Survived</th>\n",
       "      <th>Pclass</th>\n",
       "      <th>Name</th>\n",
       "      <th>Sex</th>\n",
       "      <th>Age</th>\n",
       "      <th>SibSp</th>\n",
       "      <th>Parch</th>\n",
       "      <th>Fare</th>\n",
       "    </tr>\n",
       "  </thead>\n",
       "  <tbody>\n",
       "    <tr>\n",
       "      <th>0</th>\n",
       "      <td>0</td>\n",
       "      <td>3</td>\n",
       "      <td>Braund, Mr. Owen Harris</td>\n",
       "      <td>male</td>\n",
       "      <td>22.0</td>\n",
       "      <td>1</td>\n",
       "      <td>0</td>\n",
       "      <td>7.2500</td>\n",
       "    </tr>\n",
       "    <tr>\n",
       "      <th>1</th>\n",
       "      <td>1</td>\n",
       "      <td>1</td>\n",
       "      <td>Cumings, Mrs. John Bradley (Florence Briggs Th...</td>\n",
       "      <td>female</td>\n",
       "      <td>38.0</td>\n",
       "      <td>1</td>\n",
       "      <td>0</td>\n",
       "      <td>71.2833</td>\n",
       "    </tr>\n",
       "    <tr>\n",
       "      <th>2</th>\n",
       "      <td>1</td>\n",
       "      <td>3</td>\n",
       "      <td>Heikkinen, Miss. Laina</td>\n",
       "      <td>female</td>\n",
       "      <td>26.0</td>\n",
       "      <td>0</td>\n",
       "      <td>0</td>\n",
       "      <td>7.9250</td>\n",
       "    </tr>\n",
       "    <tr>\n",
       "      <th>3</th>\n",
       "      <td>1</td>\n",
       "      <td>1</td>\n",
       "      <td>Futrelle, Mrs. Jacques Heath (Lily May Peel)</td>\n",
       "      <td>female</td>\n",
       "      <td>35.0</td>\n",
       "      <td>1</td>\n",
       "      <td>0</td>\n",
       "      <td>53.1000</td>\n",
       "    </tr>\n",
       "    <tr>\n",
       "      <th>4</th>\n",
       "      <td>0</td>\n",
       "      <td>3</td>\n",
       "      <td>Allen, Mr. William Henry</td>\n",
       "      <td>male</td>\n",
       "      <td>35.0</td>\n",
       "      <td>0</td>\n",
       "      <td>0</td>\n",
       "      <td>8.0500</td>\n",
       "    </tr>\n",
       "  </tbody>\n",
       "</table>\n",
       "</div>"
      ],
      "text/plain": [
       "   Survived  Pclass                                               Name  \\\n",
       "0         0       3                            Braund, Mr. Owen Harris   \n",
       "1         1       1  Cumings, Mrs. John Bradley (Florence Briggs Th...   \n",
       "2         1       3                             Heikkinen, Miss. Laina   \n",
       "3         1       1       Futrelle, Mrs. Jacques Heath (Lily May Peel)   \n",
       "4         0       3                           Allen, Mr. William Henry   \n",
       "\n",
       "      Sex   Age  SibSp  Parch     Fare  \n",
       "0    male  22.0      1      0   7.2500  \n",
       "1  female  38.0      1      0  71.2833  \n",
       "2  female  26.0      0      0   7.9250  \n",
       "3  female  35.0      1      0  53.1000  \n",
       "4    male  35.0      0      0   8.0500  "
      ]
     },
     "execution_count": 1,
     "metadata": {},
     "output_type": "execute_result"
    }
   ],
   "source": [
    "import numpy as np\n",
    "import numpy.random as npr\n",
    "import matplotlib.pyplot as plt\n",
    "import scipy.stats as sps\n",
    "import pandas as pd\n",
    "import statsmodels as sm\n",
    "import statsmodels.formula.api as smf\n",
    "from IPython.display import display, Latex\n",
    "import warnings\n",
    "warnings.filterwarnings('ignore')\n",
    "\n",
    "file = \"Titanic.csv\"\n",
    "données = pd.read_csv(file, delimiter=',')\n",
    "\n",
    "données.drop(columns=[\"PassengerId\", \"Ticket\", \"Cabin\", \"Embarked\"], inplace=True)\n",
    "\n",
    "données[\"Age\"].fillna(données[\"Age\"].mean(),inplace=True)\n",
    "\n",
    "données.head()"
   ]
  },
  {
   "cell_type": "markdown",
   "metadata": {},
   "source": [
    "### 1. Déterminer le nombre et la proportion de passagers décédés."
   ]
  },
  {
   "cell_type": "code",
   "execution_count": 2,
   "metadata": {},
   "outputs": [
    {
     "data": {
      "text/latex": [
       "Nombre de décédés: $549$"
      ],
      "text/plain": [
       "<IPython.core.display.Latex object>"
      ]
     },
     "metadata": {},
     "output_type": "display_data"
    },
    {
     "data": {
      "text/latex": [
       "Proportion de décédés: $0.6162 = 61.6~\\%$"
      ],
      "text/plain": [
       "<IPython.core.display.Latex object>"
      ]
     },
     "metadata": {},
     "output_type": "display_data"
    }
   ],
   "source": [
    "series = données[\"Survived\"]\n",
    "n_décédés = series.count() - series.sum()\n",
    "p_décédés = 1 - series.mean()\n",
    "\n",
    "display(Latex(f\"Nombre de décédés: ${n_décédés}$\"))\n",
    "display(Latex(f\"Proportion de décédés: ${p_décédés:.4f} = {100*p_décédés:.1f}~\\%$\"))"
   ]
  },
  {
   "cell_type": "markdown",
   "metadata": {},
   "source": [
    "### 2. Déterminer le pourcentage d'hommes et de femmes parmi les personnes décédées et les survivants. Qu'observe-t-on ?"
   ]
  },
  {
   "cell_type": "code",
   "execution_count": 3,
   "metadata": {
    "scrolled": true
   },
   "outputs": [
    {
     "data": {
      "text/html": [
       "<div>\n",
       "<style scoped>\n",
       "    .dataframe tbody tr th:only-of-type {\n",
       "        vertical-align: middle;\n",
       "    }\n",
       "\n",
       "    .dataframe tbody tr th {\n",
       "        vertical-align: top;\n",
       "    }\n",
       "\n",
       "    .dataframe thead tr th {\n",
       "        text-align: left;\n",
       "    }\n",
       "\n",
       "    .dataframe thead tr:last-of-type th {\n",
       "        text-align: right;\n",
       "    }\n",
       "</style>\n",
       "<table border=\"1\" class=\"dataframe\">\n",
       "  <thead>\n",
       "    <tr>\n",
       "      <th></th>\n",
       "      <th colspan=\"2\" halign=\"left\">Sex</th>\n",
       "    </tr>\n",
       "    <tr>\n",
       "      <th></th>\n",
       "      <th>Femmes (%)</th>\n",
       "      <th>Hommes (%)</th>\n",
       "    </tr>\n",
       "    <tr>\n",
       "      <th>Survived</th>\n",
       "      <th></th>\n",
       "      <th></th>\n",
       "    </tr>\n",
       "  </thead>\n",
       "  <tbody>\n",
       "    <tr>\n",
       "      <th>0</th>\n",
       "      <td>0.15 %</td>\n",
       "      <td>0.85 %</td>\n",
       "    </tr>\n",
       "    <tr>\n",
       "      <th>1</th>\n",
       "      <td>0.68 %</td>\n",
       "      <td>0.32 %</td>\n",
       "    </tr>\n",
       "  </tbody>\n",
       "</table>\n",
       "</div>"
      ],
      "text/plain": [
       "                Sex           \n",
       "         Femmes (%) Hommes (%)\n",
       "Survived                      \n",
       "0            0.15 %     0.85 %\n",
       "1            0.68 %     0.32 %"
      ]
     },
     "execution_count": 3,
     "metadata": {},
     "output_type": "execute_result"
    }
   ],
   "source": [
    "df = données.groupby([\"Survived\"])[\"Sex\"].apply(lambda s: pd.Series({\n",
    "    \"Femmes (%)\": f\"{s[s == 'female'].count()/s.count():.2f} %\", \n",
    "    \"Hommes (%)\": f\"{s[s == 'male'].count()/s.count():.2f} %\"\n",
    "}))\n",
    "\n",
    "pd.DataFrame(df).unstack()"
   ]
  },
  {
   "cell_type": "markdown",
   "metadata": {},
   "source": [
    "On observe que les hommes sont la majorité parmi les victimes fatales, lorsque les femmes sont la majorité parmi les survivants. "
   ]
  },
  {
   "cell_type": "markdown",
   "metadata": {},
   "source": [
    "### 3. Reprendre cette analyse pour les différentes classes. Qu'observe-t-on ?"
   ]
  },
  {
   "cell_type": "code",
   "execution_count": 4,
   "metadata": {},
   "outputs": [
    {
     "data": {
      "text/html": [
       "<div>\n",
       "<style scoped>\n",
       "    .dataframe tbody tr th:only-of-type {\n",
       "        vertical-align: middle;\n",
       "    }\n",
       "\n",
       "    .dataframe tbody tr th {\n",
       "        vertical-align: top;\n",
       "    }\n",
       "\n",
       "    .dataframe thead th {\n",
       "        text-align: right;\n",
       "    }\n",
       "</style>\n",
       "<table border=\"1\" class=\"dataframe\">\n",
       "  <thead>\n",
       "    <tr style=\"text-align: right;\">\n",
       "      <th></th>\n",
       "      <th>Sex</th>\n",
       "      <th>female</th>\n",
       "      <th>male</th>\n",
       "    </tr>\n",
       "    <tr>\n",
       "      <th>Pclass</th>\n",
       "      <th>Survived</th>\n",
       "      <th></th>\n",
       "      <th></th>\n",
       "    </tr>\n",
       "  </thead>\n",
       "  <tbody>\n",
       "    <tr>\n",
       "      <th rowspan=\"2\" valign=\"top\">1</th>\n",
       "      <th>0</th>\n",
       "      <td>0.04 %</td>\n",
       "      <td>0.96 %</td>\n",
       "    </tr>\n",
       "    <tr>\n",
       "      <th>1</th>\n",
       "      <td>0.67 %</td>\n",
       "      <td>0.33 %</td>\n",
       "    </tr>\n",
       "    <tr>\n",
       "      <th rowspan=\"2\" valign=\"top\">2</th>\n",
       "      <th>0</th>\n",
       "      <td>0.06 %</td>\n",
       "      <td>0.94 %</td>\n",
       "    </tr>\n",
       "    <tr>\n",
       "      <th>1</th>\n",
       "      <td>0.80 %</td>\n",
       "      <td>0.20 %</td>\n",
       "    </tr>\n",
       "    <tr>\n",
       "      <th rowspan=\"2\" valign=\"top\">3</th>\n",
       "      <th>0</th>\n",
       "      <td>0.19 %</td>\n",
       "      <td>0.81 %</td>\n",
       "    </tr>\n",
       "    <tr>\n",
       "      <th>1</th>\n",
       "      <td>0.61 %</td>\n",
       "      <td>0.39 %</td>\n",
       "    </tr>\n",
       "  </tbody>\n",
       "</table>\n",
       "</div>"
      ],
      "text/plain": [
       "Sex              female    male\n",
       "Pclass Survived                \n",
       "1      0         0.04 %  0.96 %\n",
       "       1         0.67 %  0.33 %\n",
       "2      0         0.06 %  0.94 %\n",
       "       1         0.80 %  0.20 %\n",
       "3      0         0.19 %  0.81 %\n",
       "       1         0.61 %  0.39 %"
      ]
     },
     "execution_count": 4,
     "metadata": {},
     "output_type": "execute_result"
    }
   ],
   "source": [
    "df = données[[\"Survived\", \"Sex\", \"Pclass\"]]\n",
    "df = pd.pivot_table(df, values='Sex', index=['Pclass', 'Survived'],\n",
    "                    columns=['Sex'], aggfunc=len)\n",
    "\n",
    "df = df.apply(axis=1, func=lambda s: s/s.sum())\n",
    "df.apply(lambda s: s.apply(lambda s: f\"{s:.2f} %\"))"
   ]
  },
  {
   "cell_type": "markdown",
   "metadata": {},
   "source": [
    "Encore une fois, on observe dans chacune des classes, la plupart des décédés sont des hommes, et la plupart des survivant sont des femmes. "
   ]
  },
  {
   "cell_type": "markdown",
   "metadata": {},
   "source": [
    "### 4. Calculer la matrice de corrélation des covariables. Qu'observe-t-on ?"
   ]
  },
  {
   "cell_type": "code",
   "execution_count": 5,
   "metadata": {
    "scrolled": true
   },
   "outputs": [
    {
     "name": "stdout",
     "output_type": "stream",
     "text": [
      "La matrice de corrélation des covariables est : \n"
     ]
    },
    {
     "data": {
      "text/html": [
       "<div>\n",
       "<style scoped>\n",
       "    .dataframe tbody tr th:only-of-type {\n",
       "        vertical-align: middle;\n",
       "    }\n",
       "\n",
       "    .dataframe tbody tr th {\n",
       "        vertical-align: top;\n",
       "    }\n",
       "\n",
       "    .dataframe thead th {\n",
       "        text-align: right;\n",
       "    }\n",
       "</style>\n",
       "<table border=\"1\" class=\"dataframe\">\n",
       "  <thead>\n",
       "    <tr style=\"text-align: right;\">\n",
       "      <th></th>\n",
       "      <th>Survived</th>\n",
       "      <th>Age</th>\n",
       "      <th>SibSp</th>\n",
       "      <th>Parch</th>\n",
       "      <th>Fare</th>\n",
       "      <th>Sex_female</th>\n",
       "      <th>Sex_male</th>\n",
       "      <th>Pclass_1</th>\n",
       "      <th>Pclass_2</th>\n",
       "      <th>Pclass_3</th>\n",
       "    </tr>\n",
       "  </thead>\n",
       "  <tbody>\n",
       "    <tr>\n",
       "      <th>Survived</th>\n",
       "      <td>1.000000</td>\n",
       "      <td>-0.069809</td>\n",
       "      <td>-0.035322</td>\n",
       "      <td>0.081629</td>\n",
       "      <td>0.257307</td>\n",
       "      <td>0.543351</td>\n",
       "      <td>-0.543351</td>\n",
       "      <td>0.285904</td>\n",
       "      <td>0.093349</td>\n",
       "      <td>-0.322308</td>\n",
       "    </tr>\n",
       "    <tr>\n",
       "      <th>Age</th>\n",
       "      <td>-0.069809</td>\n",
       "      <td>1.000000</td>\n",
       "      <td>-0.232625</td>\n",
       "      <td>-0.179191</td>\n",
       "      <td>0.091566</td>\n",
       "      <td>-0.084153</td>\n",
       "      <td>0.084153</td>\n",
       "      <td>0.319916</td>\n",
       "      <td>0.006589</td>\n",
       "      <td>-0.281004</td>\n",
       "    </tr>\n",
       "    <tr>\n",
       "      <th>SibSp</th>\n",
       "      <td>-0.035322</td>\n",
       "      <td>-0.232625</td>\n",
       "      <td>1.000000</td>\n",
       "      <td>0.414838</td>\n",
       "      <td>0.159651</td>\n",
       "      <td>0.114631</td>\n",
       "      <td>-0.114631</td>\n",
       "      <td>-0.054582</td>\n",
       "      <td>-0.055932</td>\n",
       "      <td>0.092548</td>\n",
       "    </tr>\n",
       "    <tr>\n",
       "      <th>Parch</th>\n",
       "      <td>0.081629</td>\n",
       "      <td>-0.179191</td>\n",
       "      <td>0.414838</td>\n",
       "      <td>1.000000</td>\n",
       "      <td>0.216225</td>\n",
       "      <td>0.245489</td>\n",
       "      <td>-0.245489</td>\n",
       "      <td>-0.017633</td>\n",
       "      <td>-0.000734</td>\n",
       "      <td>0.015790</td>\n",
       "    </tr>\n",
       "    <tr>\n",
       "      <th>Fare</th>\n",
       "      <td>0.257307</td>\n",
       "      <td>0.091566</td>\n",
       "      <td>0.159651</td>\n",
       "      <td>0.216225</td>\n",
       "      <td>1.000000</td>\n",
       "      <td>0.182333</td>\n",
       "      <td>-0.182333</td>\n",
       "      <td>0.591711</td>\n",
       "      <td>-0.118557</td>\n",
       "      <td>-0.413333</td>\n",
       "    </tr>\n",
       "    <tr>\n",
       "      <th>Sex_female</th>\n",
       "      <td>0.543351</td>\n",
       "      <td>-0.084153</td>\n",
       "      <td>0.114631</td>\n",
       "      <td>0.245489</td>\n",
       "      <td>0.182333</td>\n",
       "      <td>1.000000</td>\n",
       "      <td>-1.000000</td>\n",
       "      <td>0.098013</td>\n",
       "      <td>0.064746</td>\n",
       "      <td>-0.137143</td>\n",
       "    </tr>\n",
       "    <tr>\n",
       "      <th>Sex_male</th>\n",
       "      <td>-0.543351</td>\n",
       "      <td>0.084153</td>\n",
       "      <td>-0.114631</td>\n",
       "      <td>-0.245489</td>\n",
       "      <td>-0.182333</td>\n",
       "      <td>-1.000000</td>\n",
       "      <td>1.000000</td>\n",
       "      <td>-0.098013</td>\n",
       "      <td>-0.064746</td>\n",
       "      <td>0.137143</td>\n",
       "    </tr>\n",
       "    <tr>\n",
       "      <th>Pclass_1</th>\n",
       "      <td>0.285904</td>\n",
       "      <td>0.319916</td>\n",
       "      <td>-0.054582</td>\n",
       "      <td>-0.017633</td>\n",
       "      <td>0.591711</td>\n",
       "      <td>0.098013</td>\n",
       "      <td>-0.098013</td>\n",
       "      <td>1.000000</td>\n",
       "      <td>-0.288585</td>\n",
       "      <td>-0.626738</td>\n",
       "    </tr>\n",
       "    <tr>\n",
       "      <th>Pclass_2</th>\n",
       "      <td>0.093349</td>\n",
       "      <td>0.006589</td>\n",
       "      <td>-0.055932</td>\n",
       "      <td>-0.000734</td>\n",
       "      <td>-0.118557</td>\n",
       "      <td>0.064746</td>\n",
       "      <td>-0.064746</td>\n",
       "      <td>-0.288585</td>\n",
       "      <td>1.000000</td>\n",
       "      <td>-0.565210</td>\n",
       "    </tr>\n",
       "    <tr>\n",
       "      <th>Pclass_3</th>\n",
       "      <td>-0.322308</td>\n",
       "      <td>-0.281004</td>\n",
       "      <td>0.092548</td>\n",
       "      <td>0.015790</td>\n",
       "      <td>-0.413333</td>\n",
       "      <td>-0.137143</td>\n",
       "      <td>0.137143</td>\n",
       "      <td>-0.626738</td>\n",
       "      <td>-0.565210</td>\n",
       "      <td>1.000000</td>\n",
       "    </tr>\n",
       "  </tbody>\n",
       "</table>\n",
       "</div>"
      ],
      "text/plain": [
       "            Survived       Age     SibSp     Parch      Fare  Sex_female  \\\n",
       "Survived    1.000000 -0.069809 -0.035322  0.081629  0.257307    0.543351   \n",
       "Age        -0.069809  1.000000 -0.232625 -0.179191  0.091566   -0.084153   \n",
       "SibSp      -0.035322 -0.232625  1.000000  0.414838  0.159651    0.114631   \n",
       "Parch       0.081629 -0.179191  0.414838  1.000000  0.216225    0.245489   \n",
       "Fare        0.257307  0.091566  0.159651  0.216225  1.000000    0.182333   \n",
       "Sex_female  0.543351 -0.084153  0.114631  0.245489  0.182333    1.000000   \n",
       "Sex_male   -0.543351  0.084153 -0.114631 -0.245489 -0.182333   -1.000000   \n",
       "Pclass_1    0.285904  0.319916 -0.054582 -0.017633  0.591711    0.098013   \n",
       "Pclass_2    0.093349  0.006589 -0.055932 -0.000734 -0.118557    0.064746   \n",
       "Pclass_3   -0.322308 -0.281004  0.092548  0.015790 -0.413333   -0.137143   \n",
       "\n",
       "            Sex_male  Pclass_1  Pclass_2  Pclass_3  \n",
       "Survived   -0.543351  0.285904  0.093349 -0.322308  \n",
       "Age         0.084153  0.319916  0.006589 -0.281004  \n",
       "SibSp      -0.114631 -0.054582 -0.055932  0.092548  \n",
       "Parch      -0.245489 -0.017633 -0.000734  0.015790  \n",
       "Fare       -0.182333  0.591711 -0.118557 -0.413333  \n",
       "Sex_female -1.000000  0.098013  0.064746 -0.137143  \n",
       "Sex_male    1.000000 -0.098013 -0.064746  0.137143  \n",
       "Pclass_1   -0.098013  1.000000 -0.288585 -0.626738  \n",
       "Pclass_2   -0.064746 -0.288585  1.000000 -0.565210  \n",
       "Pclass_3    0.137143 -0.626738 -0.565210  1.000000  "
      ]
     },
     "execution_count": 5,
     "metadata": {},
     "output_type": "execute_result"
    }
   ],
   "source": [
    "df = données\n",
    "\n",
    "# On conventionne \"female\" = 1 et \"male\" = 1\n",
    "\n",
    "df = pd.get_dummies(df, columns = [\"Sex\", \"Pclass\"])\n",
    "\n",
    "print(\"La matrice de corrélation des covariables est : \")\n",
    "df.corr()"
   ]
  },
  {
   "cell_type": "markdown",
   "metadata": {},
   "source": [
    "D'après la matrice de corrélation des covariables, on observe que la survie est positivement corrélée au sexe féminin (et négativement au masculin), au nombre de parents/enfants à bord, et à la tarif du ticket. \n",
    "On observe aussi que la survie est positivement corrélée à tous les classes sauf la $3$ème, i.e, la classe économique. "
   ]
  },
  {
   "cell_type": "markdown",
   "metadata": {},
   "source": [
    "### On procède maintenant à la régression logistique\n",
    "### 5. On inclut d'abord tous les paramètres dans la régression. Calculer les intervalles de confiance à $95\\%$ pour l'ensemble des paramètres. Qu'observe-t-on ?"
   ]
  },
  {
   "cell_type": "code",
   "execution_count": 6,
   "metadata": {},
   "outputs": [
    {
     "name": "stdout",
     "output_type": "stream",
     "text": [
      "Optimization terminated successfully.\n",
      "         Current function value: 0.442576\n",
      "         Iterations 6\n"
     ]
    },
    {
     "data": {
      "text/html": [
       "<table class=\"simpletable\">\n",
       "<caption>Logit Regression Results</caption>\n",
       "<tr>\n",
       "  <th>Dep. Variable:</th>       <td>Survived</td>     <th>  No. Observations:  </th>  <td>   891</td>  \n",
       "</tr>\n",
       "<tr>\n",
       "  <th>Model:</th>                 <td>Logit</td>      <th>  Df Residuals:      </th>  <td>   883</td>  \n",
       "</tr>\n",
       "<tr>\n",
       "  <th>Method:</th>                 <td>MLE</td>       <th>  Df Model:          </th>  <td>     7</td>  \n",
       "</tr>\n",
       "<tr>\n",
       "  <th>Date:</th>            <td>Fri, 22 Oct 2021</td> <th>  Pseudo R-squ.:     </th>  <td>0.3354</td>  \n",
       "</tr>\n",
       "<tr>\n",
       "  <th>Time:</th>                <td>18:57:07</td>     <th>  Log-Likelihood:    </th> <td> -394.34</td> \n",
       "</tr>\n",
       "<tr>\n",
       "  <th>converged:</th>             <td>True</td>       <th>  LL-Null:           </th> <td> -593.33</td> \n",
       "</tr>\n",
       "<tr>\n",
       "  <th>Covariance Type:</th>     <td>nonrobust</td>    <th>  LLR p-value:       </th> <td>6.452e-82</td>\n",
       "</tr>\n",
       "</table>\n",
       "<table class=\"simpletable\">\n",
       "<tr>\n",
       "         <td></td>           <th>coef</th>     <th>std err</th>      <th>z</th>      <th>P>|z|</th>  <th>[0.025</th>    <th>0.975]</th>  \n",
       "</tr>\n",
       "<tr>\n",
       "  <th>Intercept</th>      <td>    3.8409</td> <td>    0.447</td> <td>    8.602</td> <td> 0.000</td> <td>    2.966</td> <td>    4.716</td>\n",
       "</tr>\n",
       "<tr>\n",
       "  <th>C(Sex)[T.male]</th> <td>   -2.7609</td> <td>    0.199</td> <td>  -13.856</td> <td> 0.000</td> <td>   -3.151</td> <td>   -2.370</td>\n",
       "</tr>\n",
       "<tr>\n",
       "  <th>C(Pclass)[T.2]</th> <td>   -1.0231</td> <td>    0.294</td> <td>   -3.481</td> <td> 0.000</td> <td>   -1.599</td> <td>   -0.447</td>\n",
       "</tr>\n",
       "<tr>\n",
       "  <th>C(Pclass)[T.3]</th> <td>   -2.1499</td> <td>    0.290</td> <td>   -7.423</td> <td> 0.000</td> <td>   -2.718</td> <td>   -1.582</td>\n",
       "</tr>\n",
       "<tr>\n",
       "  <th>Age</th>            <td>   -0.0395</td> <td>    0.008</td> <td>   -5.035</td> <td> 0.000</td> <td>   -0.055</td> <td>   -0.024</td>\n",
       "</tr>\n",
       "<tr>\n",
       "  <th>SibSp</th>          <td>   -0.3501</td> <td>    0.110</td> <td>   -3.194</td> <td> 0.001</td> <td>   -0.565</td> <td>   -0.135</td>\n",
       "</tr>\n",
       "<tr>\n",
       "  <th>Parch</th>          <td>   -0.1133</td> <td>    0.118</td> <td>   -0.964</td> <td> 0.335</td> <td>   -0.344</td> <td>    0.117</td>\n",
       "</tr>\n",
       "<tr>\n",
       "  <th>Fare</th>           <td>    0.0030</td> <td>    0.002</td> <td>    1.223</td> <td> 0.221</td> <td>   -0.002</td> <td>    0.008</td>\n",
       "</tr>\n",
       "</table>"
      ],
      "text/plain": [
       "<class 'statsmodels.iolib.summary.Summary'>\n",
       "\"\"\"\n",
       "                           Logit Regression Results                           \n",
       "==============================================================================\n",
       "Dep. Variable:               Survived   No. Observations:                  891\n",
       "Model:                          Logit   Df Residuals:                      883\n",
       "Method:                           MLE   Df Model:                            7\n",
       "Date:                Fri, 22 Oct 2021   Pseudo R-squ.:                  0.3354\n",
       "Time:                        18:57:07   Log-Likelihood:                -394.34\n",
       "converged:                       True   LL-Null:                       -593.33\n",
       "Covariance Type:            nonrobust   LLR p-value:                 6.452e-82\n",
       "==================================================================================\n",
       "                     coef    std err          z      P>|z|      [0.025      0.975]\n",
       "----------------------------------------------------------------------------------\n",
       "Intercept          3.8409      0.447      8.602      0.000       2.966       4.716\n",
       "C(Sex)[T.male]    -2.7609      0.199    -13.856      0.000      -3.151      -2.370\n",
       "C(Pclass)[T.2]    -1.0231      0.294     -3.481      0.000      -1.599      -0.447\n",
       "C(Pclass)[T.3]    -2.1499      0.290     -7.423      0.000      -2.718      -1.582\n",
       "Age               -0.0395      0.008     -5.035      0.000      -0.055      -0.024\n",
       "SibSp             -0.3501      0.110     -3.194      0.001      -0.565      -0.135\n",
       "Parch             -0.1133      0.118     -0.964      0.335      -0.344       0.117\n",
       "Fare               0.0030      0.002      1.223      0.221      -0.002       0.008\n",
       "==================================================================================\n",
       "\"\"\""
      ]
     },
     "execution_count": 6,
     "metadata": {},
     "output_type": "execute_result"
    }
   ],
   "source": [
    "df = données\n",
    "\n",
    "res = smf.logit(formula=\"Survived ~ Age + SibSp + Parch + Fare + C(Sex) + C(Pclass)\", data=df).fit()\n",
    "t = res.summary()\n",
    "t\n",
    "#αΣβ"
   ]
  },
  {
   "cell_type": "markdown",
   "metadata": {},
   "source": [
    "Remarquez que les intervalles de confiance à $95 \\%$ sont bien affichés dans les deux dernières colonnes du tableau. \n",
    "\n",
    "On observe d'abord que le coefficient associée à la variable *dummy* du sexe masculin est négative, et le même vaut pour les *dummy* répresentant les classes $2$ et $3$. \n",
    "De plus, on voit que la plupart des coefficients sont négatifs, i.e., leurs intervalles de confiance à $95 \\%$ sont contenus dans $\\mathbb{R}_{-}$, sauf par $\\beta_{\\texttt{Parch}}$ et $\\beta_{\\texttt{Fare}}$. "
   ]
  },
  {
   "cell_type": "markdown",
   "metadata": {},
   "source": [
    "### 6. Déterminer la $p$-valeur du test\n",
    "$$H_0 : \\beta_{\\texttt{Parch}} = 0 \\text{ , contre } H_1 : \\beta_{\\texttt{Parch}} \\neq 0$$\n",
    "### Que peut-on conclure ?"
   ]
  },
  {
   "cell_type": "code",
   "execution_count": 7,
   "metadata": {},
   "outputs": [
    {
     "name": "stdout",
     "output_type": "stream",
     "text": [
      "p = 0.34 %\n"
     ]
    }
   ],
   "source": [
    "pvaleur = float(t.tables[1].data[7][4])\n",
    "print(f\"p = {pvaleur:.2f} %\")"
   ]
  },
  {
   "cell_type": "markdown",
   "metadata": {},
   "source": [
    "Puisque la $p$-valeur obtenue est supérieur au niveau $\\alpha = 5 \\%$ du test, la conclusion est qu'on **n'a pas d'évidences suffisantes pour rejetter l'hypothèse nulle**. Autrement dit, c'est raisonnable de considérer que $\\beta_{\\texttt{Parch}} = 0$. "
   ]
  },
  {
   "cell_type": "markdown",
   "metadata": {},
   "source": [
    "### 7. On reprend l'analyse en éliminant la variable ```Parch```. Calculer les intervalles de confiance à $95\\%$ pour l'ensemble des paramètres. Qu'observe-t-on ?"
   ]
  },
  {
   "cell_type": "code",
   "execution_count": 8,
   "metadata": {
    "scrolled": false
   },
   "outputs": [
    {
     "name": "stdout",
     "output_type": "stream",
     "text": [
      "Optimization terminated successfully.\n",
      "         Current function value: 0.443106\n",
      "         Iterations 6\n"
     ]
    },
    {
     "data": {
      "text/html": [
       "<table class=\"simpletable\">\n",
       "<caption>Logit Regression Results</caption>\n",
       "<tr>\n",
       "  <th>Dep. Variable:</th>       <td>Survived</td>     <th>  No. Observations:  </th>  <td>   891</td>  \n",
       "</tr>\n",
       "<tr>\n",
       "  <th>Model:</th>                 <td>Logit</td>      <th>  Df Residuals:      </th>  <td>   884</td>  \n",
       "</tr>\n",
       "<tr>\n",
       "  <th>Method:</th>                 <td>MLE</td>       <th>  Df Model:          </th>  <td>     6</td>  \n",
       "</tr>\n",
       "<tr>\n",
       "  <th>Date:</th>            <td>Fri, 22 Oct 2021</td> <th>  Pseudo R-squ.:     </th>  <td>0.3346</td>  \n",
       "</tr>\n",
       "<tr>\n",
       "  <th>Time:</th>                <td>18:57:07</td>     <th>  Log-Likelihood:    </th> <td> -394.81</td> \n",
       "</tr>\n",
       "<tr>\n",
       "  <th>converged:</th>             <td>True</td>       <th>  LL-Null:           </th> <td> -593.33</td> \n",
       "</tr>\n",
       "<tr>\n",
       "  <th>Covariance Type:</th>     <td>nonrobust</td>    <th>  LLR p-value:       </th> <td>1.210e-82</td>\n",
       "</tr>\n",
       "</table>\n",
       "<table class=\"simpletable\">\n",
       "<tr>\n",
       "         <td></td>           <th>coef</th>     <th>std err</th>      <th>z</th>      <th>P>|z|</th>  <th>[0.025</th>    <th>0.975]</th>  \n",
       "</tr>\n",
       "<tr>\n",
       "  <th>Intercept</th>      <td>    3.8158</td> <td>    0.444</td> <td>    8.595</td> <td> 0.000</td> <td>    2.946</td> <td>    4.686</td>\n",
       "</tr>\n",
       "<tr>\n",
       "  <th>C(Sex)[T.male]</th> <td>   -2.7245</td> <td>    0.195</td> <td>  -13.981</td> <td> 0.000</td> <td>   -3.106</td> <td>   -2.343</td>\n",
       "</tr>\n",
       "<tr>\n",
       "  <th>C(Pclass)[T.2]</th> <td>   -1.0494</td> <td>    0.292</td> <td>   -3.596</td> <td> 0.000</td> <td>   -1.621</td> <td>   -0.477</td>\n",
       "</tr>\n",
       "<tr>\n",
       "  <th>C(Pclass)[T.3]</th> <td>   -2.1818</td> <td>    0.287</td> <td>   -7.614</td> <td> 0.000</td> <td>   -2.743</td> <td>   -1.620</td>\n",
       "</tr>\n",
       "<tr>\n",
       "  <th>Age</th>            <td>   -0.0392</td> <td>    0.008</td> <td>   -5.013</td> <td> 0.000</td> <td>   -0.055</td> <td>   -0.024</td>\n",
       "</tr>\n",
       "<tr>\n",
       "  <th>SibSp</th>          <td>   -0.3783</td> <td>    0.106</td> <td>   -3.561</td> <td> 0.000</td> <td>   -0.587</td> <td>   -0.170</td>\n",
       "</tr>\n",
       "<tr>\n",
       "  <th>Fare</th>           <td>    0.0025</td> <td>    0.002</td> <td>    1.066</td> <td> 0.286</td> <td>   -0.002</td> <td>    0.007</td>\n",
       "</tr>\n",
       "</table>"
      ],
      "text/plain": [
       "<class 'statsmodels.iolib.summary.Summary'>\n",
       "\"\"\"\n",
       "                           Logit Regression Results                           \n",
       "==============================================================================\n",
       "Dep. Variable:               Survived   No. Observations:                  891\n",
       "Model:                          Logit   Df Residuals:                      884\n",
       "Method:                           MLE   Df Model:                            6\n",
       "Date:                Fri, 22 Oct 2021   Pseudo R-squ.:                  0.3346\n",
       "Time:                        18:57:07   Log-Likelihood:                -394.81\n",
       "converged:                       True   LL-Null:                       -593.33\n",
       "Covariance Type:            nonrobust   LLR p-value:                 1.210e-82\n",
       "==================================================================================\n",
       "                     coef    std err          z      P>|z|      [0.025      0.975]\n",
       "----------------------------------------------------------------------------------\n",
       "Intercept          3.8158      0.444      8.595      0.000       2.946       4.686\n",
       "C(Sex)[T.male]    -2.7245      0.195    -13.981      0.000      -3.106      -2.343\n",
       "C(Pclass)[T.2]    -1.0494      0.292     -3.596      0.000      -1.621      -0.477\n",
       "C(Pclass)[T.3]    -2.1818      0.287     -7.614      0.000      -2.743      -1.620\n",
       "Age               -0.0392      0.008     -5.013      0.000      -0.055      -0.024\n",
       "SibSp             -0.3783      0.106     -3.561      0.000      -0.587      -0.170\n",
       "Fare               0.0025      0.002      1.066      0.286      -0.002       0.007\n",
       "==================================================================================\n",
       "\"\"\""
      ]
     },
     "execution_count": 8,
     "metadata": {},
     "output_type": "execute_result"
    }
   ],
   "source": [
    "df = données\n",
    "\n",
    "res = smf.logit(formula=\"Survived ~ Age + SibSp + Fare + C(Sex) + C(Pclass)\", data=df).fit()\n",
    "t = res.summary()\n",
    "t\n",
    "#αΣβ"
   ]
  },
  {
   "cell_type": "markdown",
   "metadata": {},
   "source": [
    "Remarquez que les intervalles de confiance à $95 \\%$ sont bien affichés dans les deux dernières colonnes du tableau. \n",
    "\n",
    "On observe cette fois que la variable ```Fare``` est la seule dont le coefficient présente un intervalle de confiance autour de $0$. Cela nous motive à nous poser la question si $\\beta_{\\texttt{Fare}}$ n'est bien égal à $0$. "
   ]
  },
  {
   "cell_type": "markdown",
   "metadata": {},
   "source": [
    "### 8. Déterminer la $p$-valeur du test\n",
    "\n",
    "$$H_0 : \\beta_{\\texttt{Fare}} = 0 \\text{, contre } H_1 : \\beta_{\\texttt{Fare}} \\neq 0$$"
   ]
  },
  {
   "cell_type": "code",
   "execution_count": 9,
   "metadata": {
    "scrolled": true
   },
   "outputs": [
    {
     "name": "stdout",
     "output_type": "stream",
     "text": [
      "p = 0.29 %\n"
     ]
    }
   ],
   "source": [
    "pvaleur = float(t.tables[1].data[7][4])\n",
    "print(f\"p = {pvaleur:.2f} %\")"
   ]
  },
  {
   "cell_type": "markdown",
   "metadata": {},
   "source": [
    "Encore une fois, on trouve une $p$-valeur supérieure au niveau du test, donc on **ne peut pas rejetter l'hypothèse nulle**, c'est-à-dire, il est raisonnable de considérer $\\beta_{\\texttt{Fare}} = 0$ et éliminer la variable ```Fare``` du modèle. "
   ]
  },
  {
   "cell_type": "markdown",
   "metadata": {},
   "source": [
    "### 9. On reprend l'analyse en éliminant la variable ```Parch``` et ```Fare```. Calculer les intervalles de confiance à $95\\%$. Que peut-on conclure ?"
   ]
  },
  {
   "cell_type": "code",
   "execution_count": 10,
   "metadata": {
    "scrolled": false
   },
   "outputs": [
    {
     "name": "stdout",
     "output_type": "stream",
     "text": [
      "Optimization terminated successfully.\n",
      "         Current function value: 0.443793\n",
      "         Iterations 6\n"
     ]
    },
    {
     "data": {
      "text/html": [
       "<table class=\"simpletable\">\n",
       "<caption>Logit Regression Results</caption>\n",
       "<tr>\n",
       "  <th>Dep. Variable:</th>       <td>Survived</td>     <th>  No. Observations:  </th>  <td>   891</td>  \n",
       "</tr>\n",
       "<tr>\n",
       "  <th>Model:</th>                 <td>Logit</td>      <th>  Df Residuals:      </th>  <td>   885</td>  \n",
       "</tr>\n",
       "<tr>\n",
       "  <th>Method:</th>                 <td>MLE</td>       <th>  Df Model:          </th>  <td>     5</td>  \n",
       "</tr>\n",
       "<tr>\n",
       "  <th>Date:</th>            <td>Fri, 22 Oct 2021</td> <th>  Pseudo R-squ.:     </th>  <td>0.3336</td>  \n",
       "</tr>\n",
       "<tr>\n",
       "  <th>Time:</th>                <td>18:57:08</td>     <th>  Log-Likelihood:    </th> <td> -395.42</td> \n",
       "</tr>\n",
       "<tr>\n",
       "  <th>converged:</th>             <td>True</td>       <th>  LL-Null:           </th> <td> -593.33</td> \n",
       "</tr>\n",
       "<tr>\n",
       "  <th>Covariance Type:</th>     <td>nonrobust</td>    <th>  LLR p-value:       </th> <td>2.366e-83</td>\n",
       "</tr>\n",
       "</table>\n",
       "<table class=\"simpletable\">\n",
       "<tr>\n",
       "         <td></td>           <th>coef</th>     <th>std err</th>      <th>z</th>      <th>P>|z|</th>  <th>[0.025</th>    <th>0.975]</th>  \n",
       "</tr>\n",
       "<tr>\n",
       "  <th>Intercept</th>      <td>    4.0274</td> <td>    0.400</td> <td>   10.072</td> <td> 0.000</td> <td>    3.244</td> <td>    4.811</td>\n",
       "</tr>\n",
       "<tr>\n",
       "  <th>C(Sex)[T.male]</th> <td>   -2.7402</td> <td>    0.194</td> <td>  -14.110</td> <td> 0.000</td> <td>   -3.121</td> <td>   -2.360</td>\n",
       "</tr>\n",
       "<tr>\n",
       "  <th>C(Pclass)[T.2]</th> <td>   -1.1898</td> <td>    0.262</td> <td>   -4.544</td> <td> 0.000</td> <td>   -1.703</td> <td>   -0.677</td>\n",
       "</tr>\n",
       "<tr>\n",
       "  <th>C(Pclass)[T.3]</th> <td>   -2.3478</td> <td>    0.243</td> <td>   -9.668</td> <td> 0.000</td> <td>   -2.824</td> <td>   -1.872</td>\n",
       "</tr>\n",
       "<tr>\n",
       "  <th>Age</th>            <td>   -0.0399</td> <td>    0.008</td> <td>   -5.111</td> <td> 0.000</td> <td>   -0.055</td> <td>   -0.025</td>\n",
       "</tr>\n",
       "<tr>\n",
       "  <th>SibSp</th>          <td>   -0.3583</td> <td>    0.104</td> <td>   -3.437</td> <td> 0.001</td> <td>   -0.563</td> <td>   -0.154</td>\n",
       "</tr>\n",
       "</table>"
      ],
      "text/plain": [
       "<class 'statsmodels.iolib.summary.Summary'>\n",
       "\"\"\"\n",
       "                           Logit Regression Results                           \n",
       "==============================================================================\n",
       "Dep. Variable:               Survived   No. Observations:                  891\n",
       "Model:                          Logit   Df Residuals:                      885\n",
       "Method:                           MLE   Df Model:                            5\n",
       "Date:                Fri, 22 Oct 2021   Pseudo R-squ.:                  0.3336\n",
       "Time:                        18:57:08   Log-Likelihood:                -395.42\n",
       "converged:                       True   LL-Null:                       -593.33\n",
       "Covariance Type:            nonrobust   LLR p-value:                 2.366e-83\n",
       "==================================================================================\n",
       "                     coef    std err          z      P>|z|      [0.025      0.975]\n",
       "----------------------------------------------------------------------------------\n",
       "Intercept          4.0274      0.400     10.072      0.000       3.244       4.811\n",
       "C(Sex)[T.male]    -2.7402      0.194    -14.110      0.000      -3.121      -2.360\n",
       "C(Pclass)[T.2]    -1.1898      0.262     -4.544      0.000      -1.703      -0.677\n",
       "C(Pclass)[T.3]    -2.3478      0.243     -9.668      0.000      -2.824      -1.872\n",
       "Age               -0.0399      0.008     -5.111      0.000      -0.055      -0.025\n",
       "SibSp             -0.3583      0.104     -3.437      0.001      -0.563      -0.154\n",
       "==================================================================================\n",
       "\"\"\""
      ]
     },
     "execution_count": 10,
     "metadata": {},
     "output_type": "execute_result"
    }
   ],
   "source": [
    "df = données\n",
    "\n",
    "res = smf.logit(formula=\"Survived ~ Age + SibSp + C(Sex) + C(Pclass)\", data=df).fit()\n",
    "t = res.summary()\n",
    "t\n",
    "#αΣβ"
   ]
  },
  {
   "cell_type": "markdown",
   "metadata": {},
   "source": [
    "Cette fois-ci on remarque que pour chacun des paramètres, les tests de nullité (comme les tests qu'on a méné pour ```Parch``` et ```Fare```) donnent tous une $p$-valeur plus petite que le niveau des tests. Ainsi, on ne peut supprimer aucune de ces variables du modèle. "
   ]
  },
  {
   "cell_type": "markdown",
   "metadata": {},
   "source": [
    "### 10. Dans ce modèle, quelles sont les probabilités de survie d'un homme dans un cas, et d'une femme dans un autre cas, chacun âgé de $22$ ans sans famille et voyageant en $1$ère classe ?"
   ]
  },
  {
   "cell_type": "code",
   "execution_count": 11,
   "metadata": {},
   "outputs": [
    {
     "data": {
      "text/latex": [
       "Probabilités de Survie de l'homme: $60.12 \\%$"
      ],
      "text/plain": [
       "<IPython.core.display.Latex object>"
      ]
     },
     "metadata": {},
     "output_type": "display_data"
    },
    {
     "data": {
      "text/latex": [
       "Probabilités de Survie de la femme: $95.89 \\%$"
      ],
      "text/plain": [
       "<IPython.core.display.Latex object>"
      ]
     },
     "metadata": {},
     "output_type": "display_data"
    }
   ],
   "source": [
    "φ = lambda t: 1.0/(1.0 + np.exp(-t))\n",
    "\n",
    "homme = np.array([1, 1, 0, 0, 22, 0])\n",
    "femme = np.array([1, 0, 0, 0, 22, 0])\n",
    "\n",
    "ph, pf = φ(np.dot(res.params, homme)), φ(np.dot(res.params, femme))\n",
    "\n",
    "display(Latex(f\"Probabilités de Survie de l'homme: ${100*ph:.2f} \\%$\"))\n",
    "display(Latex(f\"Probabilités de Survie de la femme: ${100*pf:.2f} \\%$\"))"
   ]
  },
  {
   "cell_type": "markdown",
   "metadata": {},
   "source": [
    "Étonnamment, il semble que les chances de survie pour Jack n'étaient pas si mauvaises, lorsque Rose, par contre, était presque sûre de survivre. "
   ]
  }
 ],
 "metadata": {
  "kernelspec": {
   "display_name": "Python 3",
   "language": "python",
   "name": "python3"
  },
  "language_info": {
   "codemirror_mode": {
    "name": "ipython",
    "version": 3
   },
   "file_extension": ".py",
   "mimetype": "text/x-python",
   "name": "python",
   "nbconvert_exporter": "python",
   "pygments_lexer": "ipython3",
   "version": "3.8.5"
  },
  "latex_envs": {
   "LaTeX_envs_menu_present": true,
   "autoclose": false,
   "autocomplete": false,
   "bibliofile": "biblio.bib",
   "cite_by": "apalike",
   "current_citInitial": 1,
   "eqLabelWithNumbers": true,
   "eqNumInitial": 1,
   "hotkeys": {
    "equation": "Ctrl-E",
    "itemize": "Ctrl-I"
   },
   "labels_anchors": false,
   "latex_user_defs": false,
   "report_style_numbering": false,
   "user_envs_cfg": false
  }
 },
 "nbformat": 4,
 "nbformat_minor": 4
}
